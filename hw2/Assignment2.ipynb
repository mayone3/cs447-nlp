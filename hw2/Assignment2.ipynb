{
  "nbformat": 4,
  "nbformat_minor": 0,
  "metadata": {
    "colab": {
      "name": "Assignment2.ipynb",
      "provenance": [],
      "collapsed_sections": []
    },
    "kernelspec": {
      "name": "python3",
      "display_name": "Python 3"
    },
    "accelerator": "GPU"
  },
  "cells": [
    {
      "cell_type": "markdown",
      "metadata": {
        "id": "pSy-sfxOsclS",
        "colab_type": "text"
      },
      "source": [
        "# Assignment 2"
      ]
    },
    {
      "cell_type": "markdown",
      "metadata": {
        "id": "aIc7zIy7qrIt",
        "colab_type": "text"
      },
      "source": [
        "In this part of assignment 2 we'll be building a machine learning model to detect sentiment of movie reviews using the Stanford Sentiment Treebank([SST])(http://ai.stanford.edu/~amaas/data/sentiment/) dataset. First we will import all the required libraries. We highly recommend that you finish the PyTorch Tutorials [ 1 ](https://pytorch.org/tutorials/beginner/pytorch_with_examples.html),[ 2 ](https://pytorch.org/tutorials/beginner/data_loading_tutorial.html),[ 3 ](https://github.com/yunjey/pytorch-tutorial). before starting this assignment. After finishing this assignment we will able to answer the following questions-\n",
        "\n",
        "\n",
        "* How to write Dataloaders in Pytorch?\n",
        "* How to build dictionaries and vocabularies for Deep Nets?\n",
        "* How to use Embedding Layers in Pytorch?\n",
        "* How to build various recurrent models (LSTMs and GRUs) for sentiment analysis?\n",
        "* How to use packed_padded_sequences for sequential models?\n",
        "\n",
        "\n"
      ]
    },
    {
      "cell_type": "markdown",
      "metadata": {
        "id": "jgzwGooD2bpy",
        "colab_type": "text"
      },
      "source": [
        "# Import Libraries"
      ]
    },
    {
      "cell_type": "code",
      "metadata": {
        "id": "EyCOvTRQ1nb-",
        "colab_type": "code",
        "colab": {}
      },
      "source": [
        "import numpy as np\n",
        "import torch\n",
        "import torch.nn as nn\n",
        "import torch.optim as optim\n",
        "from torch.autograd import Variable\n",
        "import torch.nn.functional as F\n",
        "from collections import defaultdict\n",
        "from torchtext import datasets\n",
        "from torchtext import data\n",
        "device = torch.device('cuda' if torch.cuda.is_available() else 'cpu')\n",
        "from torch.nn.utils.rnn import pack_sequence, pad_sequence"
      ],
      "execution_count": 0,
      "outputs": []
    },
    {
      "cell_type": "markdown",
      "metadata": {
        "id": "zHbJ1-aDsWCG",
        "colab_type": "text"
      },
      "source": [
        "## Download dataset\n",
        "First we will download the dataset using [torchtext](https://torchtext.readthedocs.io/en/latest/index.html), which is a package that supports NLP for PyTorch. The following command will get you 3 objects `train_data`, `val_data` and `test_data`. To access the data:\n",
        "\n",
        "*   To access list of textual tokens - `train_data[0].text`\n",
        "*   To access label - `train_data[0].label`\n",
        "\n"
      ]
    },
    {
      "cell_type": "code",
      "metadata": {
        "id": "dfX3bNby8FYL",
        "colab_type": "code",
        "colab": {}
      },
      "source": [
        "if(__name__=='__main__'):\n",
        "  train_data, val_data, test_data = datasets.SST.splits(data.Field(tokenize = 'spacy'), data.LabelField(dtype = torch.float), filter_pred=lambda ex: ex.label != 'neutral')"
      ],
      "execution_count": 0,
      "outputs": []
    },
    {
      "cell_type": "code",
      "metadata": {
        "id": "xCabYGV5x22f",
        "colab_type": "code",
        "colab": {}
      },
      "source": [
        "if(__name__=='__main__'):\n",
        "  print(train_data[0].text)\n",
        "  print(train_data[0].label)"
      ],
      "execution_count": 0,
      "outputs": []
    },
    {
      "cell_type": "markdown",
      "metadata": {
        "id": "_kfg8RcyskyU",
        "colab_type": "text"
      },
      "source": [
        "## Define the Dataset Class\n",
        "\n",
        "In the following cell, we will define the dataset class. You need to implement the following functions: \n",
        "\n",
        "\n",
        "*   ` build_dictionary() ` - creates the dictionaries `ixtoword` and `wordtoix`. Converts all the text of all examples, in the form of text ids and stores them in `textual_ids`. If a word is not present in your dictionary, it should use `<unk>`. Use the hyperparameter `THRESHOLD` to control the words to be in the dictionary based on their occurrence. Note the occurrences should be `>=THRESHOLD` to be included in the dictionary.\n",
        "*   ` get_label() ` - It should return the value `0` if the label in the dataset is `positive`, and should return `1` if it is `negative`. \n",
        "*   ` get_text() ` - This function should pad the review with `<end>` character uptil a length of `MAX_LEN` if the length of the text is less than the `MAX_LEN`.\n",
        "*   ` __len__() ` - This function should return the total length of the dataset.\n",
        "*   ` __getitem__() ` - This function should return the padded text, the length of the text (without the padding) and the label.\n"
      ]
    },
    {
      "cell_type": "code",
      "metadata": {
        "id": "1irMn3LX2YDB",
        "colab_type": "code",
        "colab": {}
      },
      "source": [
        "THRESHOLD = 10\n",
        "MAX_LEN = 60\n",
        "class TextDataset(data.Dataset):\n",
        "  def __init__(self, examples, split, ixtoword=None, wordtoix=None, THRESHOLD=THRESHOLD):\n",
        "    self.examples = examples\n",
        "    self.split = split\n",
        "    self.THRESHOLD = THRESHOLD\n",
        "    ### TO-DO\n",
        "  \n",
        "  def build_dictionary(self):\n",
        "    ### TO-DO\n",
        "    ### <end> should be at idx 0\n",
        "    ### <unk> should be at idx 1 \n",
        "    \n",
        "    return textual_ids, ixtoword, wordtoix\n",
        "  \n",
        "  def get_label(self, index):\n",
        "    ### TO-DO\n",
        "    return\n",
        "   \n",
        "  def get_text(self, index):\n",
        "    ### TO-DO\n",
        "    return\n",
        "    \n",
        "  \n",
        "  def __len__(self):\n",
        "    ### TO-DO\n",
        "    return\n",
        "  \n",
        "  def __getitem__(self, index):\n",
        "    ### TO-DO\n",
        "\n",
        "    return text, text_len, lbl\n",
        "    \n",
        "    "
      ],
      "execution_count": 0,
      "outputs": []
    },
    {
      "cell_type": "markdown",
      "metadata": {
        "id": "baD8lYAytdTV",
        "colab_type": "text"
      },
      "source": [
        "## Initialize the Dataloader\n",
        "We initialize the training and testing dataloaders using the Dataset classes we create for both training and testing. Make sure you use the same vocabulary for both the datasets."
      ]
    },
    {
      "cell_type": "code",
      "metadata": {
        "id": "WCzNm8LDM5aT",
        "colab_type": "code",
        "colab": {}
      },
      "source": [
        "if(__name__=='__main__'):\n",
        "  Ds = TextDataset(train_data, 'train')\n",
        "  batch_size = 32\n",
        "  train_loader = torch.utils.data.DataLoader(Ds, batch_size=batch_size, shuffle=True, num_workers=4, drop_last=True)\n",
        "  test_Ds = None ### TO-DO - using test_data\n",
        "  test_loader = None ### TO-DO - Make sure shuffle is set to False, Use batch_size=1 for test"
      ],
      "execution_count": 0,
      "outputs": []
    },
    {
      "cell_type": "markdown",
      "metadata": {
        "id": "BRCFvjwDthiA",
        "colab_type": "text"
      },
      "source": [
        "## Build your Sequential Model\n",
        "In the following we provide you the class to build your model. We provide some parameters, we expect you to use in the initialization of your sequential model."
      ]
    },
    {
      "cell_type": "code",
      "metadata": {
        "id": "2nc_HxbP6klI",
        "colab_type": "code",
        "colab": {}
      },
      "source": [
        "import torch.nn as nn\n",
        "\n",
        "class RNN(nn.Module):\n",
        "    def __init__(self, vocab_size, embedding_dim, hidden_dim, output_dim, n_layers, \n",
        "                 bidirectional, dropout, pad_idx):\n",
        "        \n",
        "        super().__init__()\n",
        "        ## To-Do\n",
        "        # - Create an embedding layer - refer to nn.Embedding\n",
        "        # - Use a sequential network - nn.LSTM or nn.GRU\n",
        "        # Have an output layer for outputting a single output value\n",
        "        \n",
        "        \n",
        "    def forward(self, text, text_lengths):\n",
        "      \n",
        "        ## TO - DO \n",
        "        ## Hint(s):  Refer to nn.utils.rnn.pack_padded_sequence for padded tensors\n",
        "        ## You do not need to apply a sigmoid to the final output - we do that for you when we call it in evaluation\n",
        "        \n",
        "        #text = [MAX LEN, batch size]\n",
        "        #text_lengths = [batch size]\n",
        "        return"
      ],
      "execution_count": 0,
      "outputs": []
    },
    {
      "cell_type": "code",
      "metadata": {
        "id": "WpjJP0746l2Y",
        "colab_type": "code",
        "colab": {}
      },
      "source": [
        "# Hyperparameters for your model\n",
        "# Feel Free to play around with these\n",
        "# for getting optimal performance\n",
        "# TO-DO\n",
        "INPUT_DIM = None #this should be your vocab size\n",
        "EMBEDDING_DIM = 100\n",
        "HIDDEN_DIM = 256\n",
        "OUTPUT_DIM = 1\n",
        "N_LAYERS = 2\n",
        "BIDIRECTIONAL = True\n",
        "DROPOUT = 0.5\n",
        "PAD_IDX = 0\n",
        "\n",
        "model = RNN(INPUT_DIM, \n",
        "            EMBEDDING_DIM, \n",
        "            HIDDEN_DIM, \n",
        "            OUTPUT_DIM, \n",
        "            N_LAYERS, \n",
        "            BIDIRECTIONAL, \n",
        "            DROPOUT, \n",
        "            PAD_IDX)"
      ],
      "execution_count": 0,
      "outputs": []
    },
    {
      "cell_type": "code",
      "metadata": {
        "id": "CA-UairGErap",
        "colab_type": "code",
        "colab": {}
      },
      "source": [
        "def count_parameters(model):\n",
        "    return sum(p.numel() for p in model.parameters() if p.requires_grad)\n",
        "if(__name__=='__main__'):\n",
        "  print(f'The model has {count_parameters(model):,} trainable parameters')"
      ],
      "execution_count": 0,
      "outputs": []
    },
    {
      "cell_type": "markdown",
      "metadata": {
        "id": "NqWHgigKtrz5",
        "colab_type": "text"
      },
      "source": [
        "### Define your loss function and optimizer"
      ]
    },
    {
      "cell_type": "code",
      "metadata": {
        "id": "TmvK3l0cE4dD",
        "colab_type": "code",
        "colab": {}
      },
      "source": [
        "import torch.optim as optim\n",
        "# TO-DO\n",
        "# Feel Free to play around with different optimizers and loss functions\n",
        "# for getting optimal performance\n",
        "# For optimizers : https://pytorch.org/docs/stable/optim.html\n",
        "# For loss functions : https://pytorch.org/docs/stable/nn.html#loss-functions\n",
        "if(__name__=='__main__'):\n",
        "  optimizer = optim.SGD(model.parameters(), lr=1e-3)\n",
        "  criterion = nn.BCEWithLogitsLoss() "
      ],
      "execution_count": 0,
      "outputs": []
    },
    {
      "cell_type": "markdown",
      "metadata": {
        "id": "CFemSvgdtyl6",
        "colab_type": "text"
      },
      "source": [
        "### Put your model on the GPU"
      ]
    },
    {
      "cell_type": "code",
      "metadata": {
        "id": "C1z_XinGE8z-",
        "colab_type": "code",
        "colab": {}
      },
      "source": [
        "if(__name__=='__main__'):\n",
        "  model = model.to(device)\n",
        "  criterion = criterion.to(device)"
      ],
      "execution_count": 0,
      "outputs": []
    },
    {
      "cell_type": "code",
      "metadata": {
        "id": "5zpJmsJiE-gq",
        "colab_type": "code",
        "colab": {}
      },
      "source": [
        "def binary_accuracy(preds, y):\n",
        "    \"\"\"\n",
        "    Returns accuracy per batch, i.e. if you get 8/10 right, this returns 0.8, NOT 8\n",
        "    \"\"\"\n",
        "    #round predictions to the closest integer\n",
        "    rounded_preds = torch.round(torch.sigmoid(preds))\n",
        "    correct = (rounded_preds == y).float() #convert into float for division \n",
        "    acc = correct.sum() / len(correct)\n",
        "    return acc"
      ],
      "execution_count": 0,
      "outputs": []
    },
    {
      "cell_type": "markdown",
      "metadata": {
        "id": "0DJc8Rxzt3JS",
        "colab_type": "text"
      },
      "source": [
        "## Train your Model"
      ]
    },
    {
      "cell_type": "code",
      "metadata": {
        "id": "LD-Jj2rUFOzr",
        "colab_type": "code",
        "colab": {}
      },
      "source": [
        "def train_model(model, num_epochs, data_loader):\n",
        "  model.train()\n",
        "  for epoch in range(10):\n",
        "    epoch_loss = 0\n",
        "    epoch_acc = 0\n",
        "    for idx, (text, text_lens, label) in enumerate(data_loader):\n",
        "        if(idx%100==0):\n",
        "          print('Executed Step {} of Epoch {}'.format(idx, epoch))\n",
        "        text = text.to(device)\n",
        "        # text - [batch_len, MAX_LEN]\n",
        "        text_lens = text_lens.to(device)\n",
        "        # text - [batch_len]\n",
        "        label = label.float()\n",
        "        label = label.to(device)\n",
        "        optimizer.zero_grad()\n",
        "        text = text.permute(1, 0) # permute for sentence_len first for embedding\n",
        "        predictions = model(text, text_lens).squeeze(1)\n",
        "        loss = criterion(predictions, label)\n",
        "\n",
        "        acc = binary_accuracy(predictions, label)\n",
        "\n",
        "        loss.backward()\n",
        "\n",
        "        optimizer.step()\n",
        "\n",
        "        epoch_loss += loss.item()\n",
        "        epoch_acc += acc.item()\n",
        "    print('Training Loss Value of Epoch {} = {}'.format(epoch ,epoch_loss/len(train_loader)))\n",
        "    print('Training Accuracy of Epoch {} = {}'.format(epoch ,epoch_acc/len(train_loader)))"
      ],
      "execution_count": 0,
      "outputs": []
    },
    {
      "cell_type": "markdown",
      "metadata": {
        "id": "Q-OJbZ72t6Yq",
        "colab_type": "text"
      },
      "source": [
        "## Evaluate your Model"
      ]
    },
    {
      "cell_type": "code",
      "metadata": {
        "id": "vTiiYDZIF--7",
        "colab_type": "code",
        "colab": {}
      },
      "source": [
        "def evaluate(model, data_loader):\n",
        "  model.eval()\n",
        "  epoch_loss = 0\n",
        "  epoch_acc = 0\n",
        "  all_predictions = []\n",
        "  for idx, (text, text_lens, label) in enumerate(data_loader):\n",
        "      if(idx%100==0):\n",
        "        print('Executed Step {}'.format(idx))\n",
        "      text = text.to(device)\n",
        "      text_lens = text_lens.to(device)\n",
        "      label = label.float()\n",
        "      label = label.to(device)\n",
        "      optimizer.zero_grad()\n",
        "      \n",
        "      text = text.permute(1, 0)\n",
        "      predictions = model(text, text_lens).squeeze(1)\n",
        "      all_predictions.append(torch.round(torch.sigmoid(predictions)))\n",
        "      loss = criterion(predictions, label)\n",
        "      acc = binary_accuracy(predictions, label)\n",
        "      epoch_loss += loss.item()\n",
        "      epoch_acc += acc.item()\n",
        "  print(epoch_loss/len(data_loader))\n",
        "  print(epoch_acc/len(data_loader))\n",
        "  predictions = torch.cat(all_predictions)\n",
        "  return predictions"
      ],
      "execution_count": 0,
      "outputs": []
    },
    {
      "cell_type": "markdown",
      "metadata": {
        "id": "FhNl48rew3KW",
        "colab_type": "text"
      },
      "source": [
        "## Training and Evaluation\n",
        "\n",
        "We first train your model using the training data. Feel free to play around with the number of epochs. We recommend **you write code to save your model** [(save/load model tutorial)](https://pytorch.org/tutorials/beginner/saving_loading_models.html) as colab connections are not permanent and it can get messy if you'll have to train your model again and again."
      ]
    },
    {
      "cell_type": "code",
      "metadata": {
        "id": "mmk-pkthw6xW",
        "colab_type": "code",
        "colab": {}
      },
      "source": [
        "if(__name__=='__main__'):\n",
        "  train_model(model, 10, train_loader)"
      ],
      "execution_count": 0,
      "outputs": []
    },
    {
      "cell_type": "markdown",
      "metadata": {
        "id": "0h-EbXgz74Rw",
        "colab_type": "text"
      },
      "source": [
        "Now we will evaluate your model on the test set."
      ]
    },
    {
      "cell_type": "code",
      "metadata": {
        "id": "g4kssEOSxMU-",
        "colab_type": "code",
        "colab": {}
      },
      "source": [
        "if(__name__=='__main__'):\n",
        "  predictions = evaluate(model, test_loader)\n",
        "  predictions = predictions.cpu().data.detach().numpy()\n",
        "  assert(len(predictions)==len(test_data))"
      ],
      "execution_count": 0,
      "outputs": []
    },
    {
      "cell_type": "markdown",
      "metadata": {
        "id": "8WQAV6O2xHvS",
        "colab_type": "text"
      },
      "source": [
        "## Saving results for Submission\n",
        "Saving your test results for submission. You will save the `result.txt` with your test data results. Make sure you do not **shuffle** the order of the `test_data` or the autograder will give you a bad score.\n",
        "\n",
        "You will submit the following files to the autograder on the gradescope :\n",
        "\n",
        "\n",
        "1.   Your `result.txt` of test data results\n",
        "2.   Your code of this notebook. You can do it by clicking `File`-> `Download .py` - make sure the name of the downloaded file is `assignment2.py`\n",
        "\n"
      ]
    },
    {
      "cell_type": "code",
      "metadata": {
        "id": "abbbMNi8X_ai",
        "colab_type": "code",
        "colab": {}
      },
      "source": [
        "if(__name__=='__main__'):\n",
        "  try:\n",
        "    from google.colab import drive\n",
        "    drive.mount('/content/drive')\n",
        "  except:\n",
        "    pass\n",
        "  np.savetxt('drive/My Drive/result.txt', predictions, delimiter=',')"
      ],
      "execution_count": 0,
      "outputs": []
    }
  ]
}